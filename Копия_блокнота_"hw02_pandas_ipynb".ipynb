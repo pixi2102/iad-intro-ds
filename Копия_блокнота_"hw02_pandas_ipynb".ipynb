{
  "cells": [
    {
      "cell_type": "markdown",
      "metadata": {
        "id": "view-in-github",
        "colab_type": "text"
      },
      "source": [
        "<a href=\"https://colab.research.google.com/github/pixi2102/iad-intro-ds/blob/master/%D0%9A%D0%BE%D0%BF%D0%B8%D1%8F_%D0%B1%D0%BB%D0%BE%D0%BA%D0%BD%D0%BE%D1%82%D0%B0_%22hw02_pandas_ipynb%22.ipynb\" target=\"_parent\"><img src=\"https://colab.research.google.com/assets/colab-badge.svg\" alt=\"Open In Colab\"/></a>"
      ]
    },
    {
      "cell_type": "markdown",
      "metadata": {
        "_uuid": "21c25e4f8bb31570029fd6b069131a5d00f84cf1",
        "id": "p_hQ3lLsB7gK"
      },
      "source": [
        "# Домашнее задание 2 (5 баллов).\n",
        "\n",
        "*Все задания ниже имеют равный вес (5/10)*"
      ]
    },
    {
      "cell_type": "markdown",
      "metadata": {
        "id": "wQHvhDr8B7gM"
      },
      "source": [
        "Код для импорта мы написали за вас (не благодарите, нам не трудно). Дальше код будете писать вы.\n",
        "\n",
        "[Тут](https://habr.com/ru/companies/ruvds/articles/494720/) шпора по pandas. За основу домашнего задания взят ноутбук [отсюда](https://rutube.ru/video/f884aa6ed5f94120b7304506042fe5bb/) (не подглядывайте!)."
      ]
    },
    {
      "cell_type": "code",
      "execution_count": 3,
      "metadata": {
        "_uuid": "568eb2d31004b87d22e119112ae01a1e75105f1d",
        "id": "4qDngWY8B7gM"
      },
      "outputs": [],
      "source": [
        "import pandas as pd\n",
        "import numpy as np"
      ]
    },
    {
      "cell_type": "markdown",
      "metadata": {
        "id": "DwiVoWHDB7gN"
      },
      "source": [
        "#### Описание данных\n",
        "\n",
        "Автор д/з - плохой человек, который не стал переводить описание с мотивировкой, что весь DS на английском. Так что описание полей будет на английском:\n",
        "\n",
        "1. Account ID\n",
        "- Description: A unique identifier for each social media account in the dataset.\n",
        "- Type: Integer\n",
        "- Example: 1, 2, 3, …\n",
        "2. Username\n",
        "- Description: The username or handle of the social media account.\n",
        "- Type: String\n",
        "- Example: john_doe, tech_guru_22, fitness_freak\n",
        "3. Platform\n",
        "- Description: The social media platform the account is using (Instagram, Twitter, Facebook, TikTok, LinkedIn).\n",
        "- Type: Categorical (String)\n",
        "- Example: Instagram, Twitter, Facebook, TikTok, LinkedIn\n",
        "4. Follower Count\n",
        "- Description: The total number of followers the account has.\n",
        "- Type: Integer\n",
        "- Example: 1500, 245000, 78000\n",
        "5. Posts Per Week\n",
        "- Description: The average number of posts the account creates per week.\n",
        "- Type: Integer\n",
        "- Example: 3, 5, 7\n",
        "6. Engagement Rate\n",
        "- Description: The percentage of interactions (likes, comments, shares) relative to the follower count. This is a measure of how engaging the content is.\n",
        "- Type: Float\n",
        "- Range: 0.01 to 0.15\n",
        "- Example: 0.045 (4.5% engagement rate)\n",
        "7. Ad Spend (USD)\n",
        "- Description: The monthly amount spent on advertising or promoting posts.\n",
        "- Type: Float\n",
        "- Example: 150.75, 850.00, 300.50\n",
        "8. Conversion Rate\n",
        "- Description: The percentage of users who take a desired action (e.g., clicking a link, signing up, etc.) after interacting with an ad.\n",
        "- Type: Float\n",
        "- Range: 0.01 to 0.05 (1% to 5% conversion rate)\n",
        "- Example: 0.025 (2.5% conversion rate)\n",
        "9. Campaign Reach\n",
        "- Description: The total number of unique users reached by the user’s campaigns in a given month.\n",
        "- Type: Integer\n",
        "- Example: 5000, 20000, 15000"
      ]
    },
    {
      "cell_type": "markdown",
      "metadata": {
        "id": "QMGGVP55B7gO"
      },
      "source": [
        "#### Задание 0\n",
        "\n",
        "Подгрузите данные. Да-да, за чтение таблицы баллов не будет))\n",
        "\n",
        "**Hint**: [pd.read_csv](https://pandas.pydata.org/pandas-docs/stable/reference/api/pandas.read_csv.html)"
      ]
    },
    {
      "cell_type": "code",
      "execution_count": 5,
      "metadata": {
        "id": "u1D2DqCSB7gO"
      },
      "outputs": [],
      "source": [
        "df = pd.read_csv('data (8).csv')# ^⨀ᴥ⨀^"
      ]
    },
    {
      "cell_type": "markdown",
      "metadata": {
        "id": "7W9wqQ_EB7gO"
      },
      "source": [
        "#### Задание 1\n",
        "\n",
        "Колонка `Platform` содержит название различных платформ. Давайте представим, что в них есть некоторое отношение порядка. Закодируйте каждую платформу целым числом (от 0 до N) и положите этот \"код\" в новую колонку `Platform_Code`. Теперь вычислите корреляцию Спирмена между всеми парами колонок в датасете (результатом будет таблица корреляций). В качестве ответа выведите значение корреляции `Platform_Code` с `Engagement Rate`. Можете после вывода числа еще коротко написать, что оно означает (нет, это не оценивается).\n",
        "\n",
        "**Hint**: [pd.factorize](https://pandas.pydata.org/pandas-docs/stable/reference/api/pandas.factorize.html), [pd.DataFrame.select_dtypes](https://pandas.pydata.org/pandas-docs/stable/reference/api/pandas.DataFrame.select_dtypes.html), [pd.DataFrame.corr](https://pandas.pydata.org/pandas-docs/stable/reference/api/pandas.DataFrame.corr.html)."
      ]
    },
    {
      "cell_type": "code",
      "execution_count": 6,
      "metadata": {
        "id": "paIUXSIbB7gP",
        "colab": {
          "base_uri": "https://localhost:8080/"
        },
        "outputId": "8a60178c-74a4-4012-e1cc-c546f4515fc6"
      },
      "outputs": [
        {
          "output_type": "stream",
          "name": "stdout",
          "text": [
            "0.03138169529349812\n"
          ]
        }
      ],
      "source": [
        "df['Platform_Code'], unique = pd.factorize(df['Platform'])\n",
        "df1 = df.select_dtypes(include=['number'])\n",
        "correlation_matrix = df1.corr(method='spearman')\n",
        "print(correlation_matrix.loc['Platform_Code', 'Engagement Rate'])"
      ]
    },
    {
      "cell_type": "markdown",
      "metadata": {
        "id": "z6Y7p3UQB7gP"
      },
      "source": [
        "#### Задание 2\n",
        "\n",
        "Теперь посмотрите на столбец `Follower Count`. В нем какие-то числа. Иногда бывает полезно провести дискретизацию такого признака. Разбейте все значения в столбце на 4 группы: \"Low\", \"Medium\", \"High\", \"Very High\". Каждая группа включает в себя новые 25% данных. То есть, Low включает в себя 25% самых маленьких значений признака и так далее. Положите значения \"Low\", \"Medium\", \"High\" или \"Very High\" для каждого сэмпла датасета в новую колонку `Follower_Bin`. Теперь посчитайте среднее значение `Engagement Rate` для каждой категории из `Follower_Bin`. В качестве ответа выведите значение для категории \"High\".\n",
        "\n",
        "**Hint**: [pd.qcut](https://pandas.pydata.org/pandas-docs/stable/reference/api/pandas.qcut.html), [pd.groupby](https://pandas.pydata.org/pandas-docs/stable/reference/api/pandas.DataFrame.groupby.html), [pd.DataFrame.mean](https://pandas.pydata.org/pandas-docs/stable/reference/api/pandas.DataFrame.mean.html)"
      ]
    },
    {
      "cell_type": "code",
      "execution_count": 7,
      "metadata": {
        "id": "PwvB2JgmB7gP",
        "colab": {
          "base_uri": "https://localhost:8080/"
        },
        "outputId": "73254edf-854a-48f7-a8a5-f38abd13f1c4"
      },
      "outputs": [
        {
          "output_type": "stream",
          "name": "stdout",
          "text": [
            "0.08655032\n"
          ]
        },
        {
          "output_type": "stream",
          "name": "stderr",
          "text": [
            "<ipython-input-7-e2e6a664b0ce>:2: FutureWarning: The default of observed=False is deprecated and will be changed to True in a future version of pandas. Pass observed=False to retain current behavior or observed=True to adopt the future default and silence this warning.\n",
            "  print(df.groupby('Follower_Bin')['Engagement Rate'].mean()['High'])\n"
          ]
        }
      ],
      "source": [
        "df['Follower_Bin']=pd.qcut(df['Follower Count'], 4, labels=['Low','Medium', 'High','Very High'])\n",
        "print(df.groupby('Follower_Bin')['Engagement Rate'].mean()['High'])"
      ]
    },
    {
      "cell_type": "markdown",
      "metadata": {
        "id": "bHiBKm4LB7gP"
      },
      "source": [
        "#### Задание 3\n",
        "\n",
        "Иногда бывает полезно превратить широкую таблицу в длинную (например, для визуализаций сразу нескольких признаков на одной картинке). Да, звучит странно, но именно этим вы сейчас и займетесь. Сделайте новый датафрейм `melted_df`, в который вы поместите каждый сэмпл датасета 6 раз: по одному разу на значение из 'Follower Count', 'Posts Per Week', 'Ad Spend (USD)', 'Conversion Rate', 'Engagement Rate' и 'Campaign Reach'. То есть, вы берете сэмпл из датасета (строку) и превращаете ее в 6 отдельных строк. Каждая отдельная строка в столбце `Metric` имеет имя из предложенного списка 5 признаков, а в столбце `Value` - значение данного сэмпла по этому признаку. Значение `Platform` повторяется в этих 6 строках.\n",
        "\n",
        "Иначе говоря,\n",
        "\n",
        "```json\n",
        "{\n",
        "    \"Account ID\": 1,\n",
        "    \"Username\": \"harrislisa\",\n",
        "    \"Platform\": \"TikTok\",\n",
        "    \"Follower Count\": 54217,\n",
        "    \"Posts Per Week\": 3,\n",
        "    \"Engagement Rate\": 0.0986,\n",
        "    \"Ad Spend (USD)\": 538.1,\n",
        "    \"Conversion Rate\": 0.049,\n",
        "    \"Campaign Reach\": 1308,\n",
        "    \"Platform_Code\": 0,\n",
        "    \"Follower_Bin\": \"Low\"\n",
        "}\n",
        "```\n",
        "\n",
        "превращается в\n",
        "\n",
        "```json\n",
        "{\n",
        "    \"Platform\": \"TikTok\",\n",
        "    \"Metric\": \"Follower Count\",\n",
        "    \"Value\": 54217,\n",
        "},\n",
        "{\n",
        "    \"Platform\": \"TikTok\",\n",
        "    \"Metric\": \"Posts Per Week\",\n",
        "    \"Value\": 3,\n",
        "}, ...\n",
        "```\n",
        "\n",
        "Для каждого уникальной пары значений (`Platform`, `Metric`) посчитайте моду среди всех значений `Value` для этой пары, результат сделайте списком и оставьте только наибольшее. В качестве ответа выведите сумму полученных мод (сумму всех значений в столбце `Value` уже после вычисления мод). Иначе говоря, выведите сумму всех мод значений для всех уникальных пар (`Platform`, `Metric`).\n",
        "\n",
        "**Hint**: [pd.melt](https://pandas.pydata.org/pandas-docs/stable/reference/api/pandas.melt.html), [pd.DataFrame.mode](https://pandas.pydata.org/pandas-docs/stable/reference/api/pandas.DataFrame.mode.html), [pd.DataFrameGroupBy.agg](https://pandas.pydata.org/docs/dev/reference/api/pandas.core.groupby.DataFrameGroupBy.agg.html)"
      ]
    },
    {
      "cell_type": "code",
      "execution_count": 8,
      "metadata": {
        "id": "i007p0-rB7gQ",
        "colab": {
          "base_uri": "https://localhost:8080/"
        },
        "outputId": "16ec1609-b33c-45c8-dafe-b7a122fe51dc"
      },
      "outputs": [
        {
          "output_type": "stream",
          "name": "stdout",
          "text": [
            "3100285.4716\n"
          ]
        }
      ],
      "source": [
        "melted_df=pd.melt(df,id_vars=['Platform'],\n",
        "                  value_vars=['Follower Count', 'Posts Per Week', 'Ad Spend (USD)', 'Conversion Rate', 'Engagement Rate','Campaign Reach'],\n",
        "                  var_name='Metric',\n",
        "                  value_name='Value')# (づ๑•ᴗ•๑)づ♡\n",
        "mode_values = melted_df.groupby(['Platform', 'Metric'])['Value'].agg(lambda x: x.mode().max()).reset_index()\n",
        "print(mode_values['Value'].sum())"
      ]
    },
    {
      "cell_type": "markdown",
      "metadata": {
        "id": "tBX2QVymB7gQ"
      },
      "source": [
        "#### Задание 4\n",
        "\n",
        "А теперь хочется посмотреть на самые популярные аккаунты на разных платформах. Для каждой платформы отсортируйте датафрейм по убыванию количества подписчиков (`Follower Count`) - да, без циклов, сразу для всех платформ сделать сортировку, а затем оставьте только первые три записи для каждой платформы - это и будут три самых популярных аккаунта для каждой платформы. В качестве ответа выведите саму таблицу и минимальное значение `Follower Count` в ней.\n",
        "\n",
        "**Hint**: к *groupby* можно применять функции - это эквивалентно применению функции к каждой \"группе\" внутри groupby-объекта. Читайте [про применение apply к датафрейму после groupby](https://pandas.pydata.org/pandas-docs/stable/user_guide/groupby.html#flexible-apply)."
      ]
    },
    {
      "cell_type": "code",
      "execution_count": 9,
      "metadata": {
        "id": "I66zq07jB7gQ",
        "colab": {
          "base_uri": "https://localhost:8080/"
        },
        "outputId": "f1464dc3-5a13-4833-a592-e1869cef8d44"
      },
      "outputs": [
        {
          "output_type": "stream",
          "name": "stdout",
          "text": [
            "    Account ID         Username   Platform  Follower Count  Posts Per Week  \\\n",
            "0         2404           eric65   Facebook          999982               6   \n",
            "1         7351     patricknoble   Facebook          997915               3   \n",
            "2         1690      chavezjason   Facebook          997512               7   \n",
            "3         8686  alexandersamuel  Instagram          999726               3   \n",
            "4         3966         lrodgers  Instagram          999351               1   \n",
            "5         2190           jbrown  Instagram          997844               5   \n",
            "6         3040          toneill   LinkedIn          999055               4   \n",
            "7         6360    andrewgregory   LinkedIn          998968               7   \n",
            "8         2160     ashleycooper   LinkedIn          998925               6   \n",
            "9         5839     edwardthomas     TikTok          999739               7   \n",
            "10        4235    andradewesley     TikTok          999234               5   \n",
            "11        2576     williamwyatt     TikTok          998623               6   \n",
            "12        4921      teresaellis    Twitter          999919               6   \n",
            "13        9685           sriley    Twitter          999442               3   \n",
            "14        7577       peggymunoz    Twitter          998216               6   \n",
            "\n",
            "    Engagement Rate  Ad Spend (USD)  Conversion Rate  Campaign Reach  \\\n",
            "0            0.0642          884.06           0.0281           17312   \n",
            "1            0.0834          429.01           0.0182           25985   \n",
            "2            0.0834          993.20           0.0397           45717   \n",
            "3            0.0834          687.61           0.0205           11050   \n",
            "4            0.0834          565.07           0.0335           12391   \n",
            "5            0.0642          505.61           0.0202           14717   \n",
            "6            0.0642          799.49           0.0174           21862   \n",
            "7            0.1020          797.64           0.0351           15552   \n",
            "8            0.0856          474.46           0.0156           45956   \n",
            "9            0.0642          630.77           0.0325           35523   \n",
            "10           0.0834          872.77           0.0481           17188   \n",
            "11           0.0856          477.98           0.0250           43299   \n",
            "12           0.0834          411.63           0.0460            3975   \n",
            "13           0.0834          206.84           0.0225           12783   \n",
            "14           0.0642          456.61           0.0456           22037   \n",
            "\n",
            "    Platform_Code Follower_Bin  \n",
            "0               2    Very High  \n",
            "1               2    Very High  \n",
            "2               2    Very High  \n",
            "3               3    Very High  \n",
            "4               3    Very High  \n",
            "5               3    Very High  \n",
            "6               1    Very High  \n",
            "7               1    Very High  \n",
            "8               1    Very High  \n",
            "9               0    Very High  \n",
            "10              0    Very High  \n",
            "11              0    Very High  \n",
            "12              4    Very High  \n",
            "13              4    Very High  \n",
            "14              4    Very High  \n",
            "997512\n"
          ]
        },
        {
          "output_type": "stream",
          "name": "stderr",
          "text": [
            "<ipython-input-9-71a790d5d725>:1: DeprecationWarning: DataFrameGroupBy.apply operated on the grouping columns. This behavior is deprecated, and in a future version of pandas the grouping columns will be excluded from the operation. Either pass `include_groups=False` to exclude the groupings or explicitly select the grouping columns after groupby to silence this warning.\n",
            "  df_updated=df.groupby('Platform').apply(lambda x: x.sort_values(by='Follower Count', ascending=False).head(3)).reset_index(drop=True)# ε(´סּ︵סּ`)з\n"
          ]
        }
      ],
      "source": [
        "df_updated=df.groupby('Platform').apply(lambda x: x.sort_values(by='Follower Count', ascending=False).head(3)).reset_index(drop=True)# ε(´סּ︵סּ`)з\n",
        "print(df_updated)\n",
        "print(df_updated['Follower Count'].min())"
      ]
    },
    {
      "cell_type": "markdown",
      "metadata": {
        "id": "4cExKzucB7gQ"
      },
      "source": [
        "#### Задание 5\n",
        "\n",
        "Хочется посчитать какую-то метрику. Мы хотим посмотреть, на отношение разности суммы подписчиков аккаунтов с высокой и низкой конверсией к суммарному охвату рекламы на каждой платформе. То есть, мы делим аккаунты на две группы: высокая и низка конверсия. Затем мы смотрим на то, на сколько сильно влияние аккаунтов с высокой конверсией по сравнению с аккаунтами с низкой конверсией.\n",
        "\n",
        "Давайте определим *Conversion Influence* следущим образом:\n",
        "\n",
        "$$Conversion Influence = \\frac{Total Follower\\ Count (High) - Total Follower\\ Count (Low)}{Total Campaign Reach (High)+Total Campaign Reach (Low)}$$\n",
        "\n",
        "Считать эту метрику мы будет для каждой `Platform`. В этой формуле High - это значения всех сэмплов датасета, в которых `Conversion Rate` больше медианы, а `Low` - не более медианы. `Total Feature` - это суммарное количество значений `Feature` либо по `High` сэмплам, либо по `Low`.\n",
        "\n",
        "Чтобы постоянно не пересчитывать, где High. где Low, сделайте новую колонку в датасете `Conversion_Category`. Положите в нее для каждой строки либо High, либо Low.\n",
        "\n",
        "Выведите платформу с самым большим `Conversion Influence`.\n",
        "\n",
        "**Hint**: данное задание не про *groupby*, а скорее про [pd.pivot_table](https://pandas.pydata.org/pandas-docs/stable/reference/api/pandas.pivot_table.html). Сделайте сводную таблицу, по которой уже можно посчитать суммы, а затем подставить их в формулы."
      ]
    },
    {
      "cell_type": "code",
      "execution_count": 10,
      "metadata": {
        "id": "83OT243rB7gQ",
        "colab": {
          "base_uri": "https://localhost:8080/"
        },
        "outputId": "b05ab39c-b191-443f-8976-5421a19e2c3f"
      },
      "outputs": [
        {
          "output_type": "stream",
          "name": "stdout",
          "text": [
            "Twitter\n"
          ]
        }
      ],
      "source": [
        "median = df['Conversion Rate'].median()\n",
        "df['Conversion_Category'] = df['Conversion Rate'].apply(lambda x: 'High' if x > median else 'Low')\n",
        "\n",
        "pivot_table = pd.pivot_table(df,\n",
        "                             values=['Follower Count', 'Campaign Reach'],\n",
        "                             index='Platform',\n",
        "                             columns='Conversion_Category',\n",
        "                             aggfunc='sum',\n",
        "                             fill_value=0)\n",
        "pivot_table['ConversionInfluence'] = (\n",
        "    (pivot_table[('Follower Count', 'High')] - pivot_table[('Follower Count', 'Low')]) /\n",
        "    (pivot_table[('Campaign Reach', 'High')] + pivot_table[('Campaign Reach', 'Low')])\n",
        ")\n",
        "\n",
        "print(pivot_table['ConversionInfluence'].idxmax())\n",
        "# (︶ω︶)"
      ]
    },
    {
      "cell_type": "markdown",
      "metadata": {
        "id": "srLjYtTyB7gQ"
      },
      "source": [
        "#### Задание 6\n",
        "\n",
        "Мы знаем, что вам понравилось считать метрики по формуле. Давайте закрепим этот успех. Теперь для каждой платформы посчитаем, на сколько эффективна реклама в разрезе трех последовательных записей в датасете.\n",
        "\n",
        "Для каждой платформы отсортируйте записи в порядке убывания `Posts Per Week`. Будто бы аккаунты, которые постят чаще, используют более \"активные\" стратегии по рекламе. Теперь посчитайте *скользущие суммы с окном 3* по `Campaign Reach` и `Ad Spend (USD)`. Скользящая сумма с окном N - это вы идете по массиву, берете все последовательные тройки записей и суммируете их. Для первых двух записей троек не найдется. Для них скользящее среднее - NaN, что нам не помешает.\n",
        "\n",
        "Теперь для каждого окна посчитайте\n",
        "\n",
        "$$Rolling Efficiency Ratio = \\frac{Rolling Sum of Campaign Reach}{Rolling Sum of Ad Spend}$$\n",
        "\n",
        "По сути, для каждого окна вы посчитаете сколько пользователе привлеклось за один доллар, потреченный на рекламу, в данном окне. Понятно, что значений будет столько, сколько окон. Нам интересно максимально значение такой эффективности для каждой платформы.\n",
        "\n",
        "В качестве ответа выведите название платформы с наибольшей максимальной эффективность и наименьшей (два названия, не одно, не три, ровно два).\n",
        "\n",
        "**Hint**: окна можно делать через [pd.DataFrame.rolling](https://pandas.pydata.org/pandas-docs/stable/reference/api/pandas.DataFrame.rolling.html)."
      ]
    },
    {
      "cell_type": "code",
      "execution_count": 11,
      "metadata": {
        "id": "kr2Pqd9jB7gR",
        "colab": {
          "base_uri": "https://localhost:8080/"
        },
        "outputId": "0c148e77-27ec-4aeb-abef-3081cf4ac041"
      },
      "outputs": [
        {
          "output_type": "stream",
          "name": "stdout",
          "text": [
            "Twitter\n",
            "Facebook\n"
          ]
        }
      ],
      "source": [
        "df_sorted = df.sort_values(by=['Platform', 'Posts Per Week'], ascending=False)\n",
        "\n",
        "df_sorted['RollingSumReach'] = df_sorted.groupby('Platform')['Campaign Reach'].rolling(window=3).sum().reset_index(drop=True)\n",
        "df_sorted['RollingSumSpend'] = df_sorted.groupby('Platform')['Ad Spend (USD)'].rolling(window=3).sum().reset_index(drop=True)\n",
        "\n",
        "df_sorted['RollingEfficiencyRatio'] = df_sorted['RollingSumReach'] / df_sorted['RollingSumSpend']\n",
        "\n",
        "efficiency = df_sorted.groupby('Platform')['RollingEfficiencyRatio'].max().reset_index()\n",
        "\n",
        "print(efficiency.loc[efficiency['RollingEfficiencyRatio'].idxmax(), 'Platform'])\n",
        "print(efficiency.loc[efficiency['RollingEfficiencyRatio'].idxmin(), 'Platform'])\n"
      ]
    },
    {
      "cell_type": "markdown",
      "metadata": {
        "id": "bcPdGy8-B7gR"
      },
      "source": [
        "#### Задание 7\n",
        "\n",
        "Это еще не все прекрасные функции pandas, которые мы хотим вам показать. Теперь вы посчитаете, сколько аккаунтов на каждой платформе одновременно лучшие по `Engagement Rate` и `Conversion Rate`.\n",
        "\n",
        "Сделайте два отдельных суб-сета. В одном оставьте для каждой платфмормы один топовый аккаунт по `Engagement Rate`, в другом - по `Conversion Rate`. Соедините эти два подмножества по столбцу `Platform` так, что в одно строке есть описание сразу двух аккаунтов-лидеров. Теперь посмотрите равны ли имена аккаунтов в одной строке. Выведите количество строк, в которых названия аккаунтов совпадают."
      ]
    },
    {
      "cell_type": "code",
      "execution_count": 22,
      "metadata": {
        "id": "-xdICPC6B7gR",
        "colab": {
          "base_uri": "https://localhost:8080/"
        },
        "outputId": "b3bec125-c9a8-4017-9319-d87c446d3d8b"
      },
      "outputs": [
        {
          "output_type": "stream",
          "name": "stdout",
          "text": [
            "0\n"
          ]
        }
      ],
      "source": [
        "df1=df.loc[df.groupby('Platform')['Engagement Rate'].idxmax()]\n",
        "df2=df.loc[df.groupby('Platform')['Conversion Rate'].idxmax()]\n",
        "df1 = df1.rename(columns={'Username': 'Username_1'})\n",
        "df2 = df2.rename(columns={'Username': 'Username_2'})\n",
        "df_united=pd.merge(df1,df2, on='Platform')\n",
        "df_united['Same Acc']=(df_united['Username_1']==df_united['Username_2'])\n",
        "print(df_united['Same Acc'].sum())# ( ͡° ͜ʖ ͡°)"
      ]
    },
    {
      "cell_type": "markdown",
      "metadata": {
        "id": "sJEK1NPFB7gR"
      },
      "source": [
        "#### Задание 8\n",
        "\n",
        "Давайте теперь что-то попроще сделаем. Например, посчитаем отношение суммарного количества подписчиков на аккаунтах с высокой конверсией к такой же сумме в аккаунтах с низкой конверсией (очевидно, для каждой платформы). По сути, мы просто хотим получить число, которое характеризует, на сколько сильно аккаунты с высокой конверсией \"доминируют\" над аккаунтами с низкой конверсией в плане количества подписчиков.\n",
        "\n",
        "Высокой конверсией будем считать конверсию больше средней. Остальное - низкая. Посчитайте суммы подписчиков для каждой платформы, поделите одно на другое и выведите разницу между самым большим значением и самым маленьким, а также платформы, которые соотвутствуют этим значениям.\n",
        "\n",
        "Используйте магическую команду `%%time`, чтобы замерить, сколько времени ушло на исполнение вашего pandas-скрипта."
      ]
    },
    {
      "cell_type": "code",
      "source": [
        "conversion_average=df.groupby('Platform')['Conversion Rate'].mean()"
      ],
      "metadata": {
        "id": "zY-Aw9nTE0cZ"
      },
      "execution_count": 27,
      "outputs": []
    },
    {
      "cell_type": "code",
      "source": [
        "conversion_average"
      ],
      "metadata": {
        "colab": {
          "base_uri": "https://localhost:8080/",
          "height": 272
        },
        "id": "Ow9LgeTdE0nD",
        "outputId": "e1b602a2-c061-4e4b-ed27-3f895625e344"
      },
      "execution_count": 28,
      "outputs": [
        {
          "output_type": "execute_result",
          "data": {
            "text/plain": [
              "Platform\n",
              "Facebook     0.028878\n",
              "Instagram    0.029179\n",
              "LinkedIn     0.029197\n",
              "TikTok       0.029290\n",
              "Twitter      0.029602\n",
              "Name: Conversion Rate, dtype: float64"
            ],
            "text/html": [
              "<div>\n",
              "<style scoped>\n",
              "    .dataframe tbody tr th:only-of-type {\n",
              "        vertical-align: middle;\n",
              "    }\n",
              "\n",
              "    .dataframe tbody tr th {\n",
              "        vertical-align: top;\n",
              "    }\n",
              "\n",
              "    .dataframe thead th {\n",
              "        text-align: right;\n",
              "    }\n",
              "</style>\n",
              "<table border=\"1\" class=\"dataframe\">\n",
              "  <thead>\n",
              "    <tr style=\"text-align: right;\">\n",
              "      <th></th>\n",
              "      <th>Conversion Rate</th>\n",
              "    </tr>\n",
              "    <tr>\n",
              "      <th>Platform</th>\n",
              "      <th></th>\n",
              "    </tr>\n",
              "  </thead>\n",
              "  <tbody>\n",
              "    <tr>\n",
              "      <th>Facebook</th>\n",
              "      <td>0.028878</td>\n",
              "    </tr>\n",
              "    <tr>\n",
              "      <th>Instagram</th>\n",
              "      <td>0.029179</td>\n",
              "    </tr>\n",
              "    <tr>\n",
              "      <th>LinkedIn</th>\n",
              "      <td>0.029197</td>\n",
              "    </tr>\n",
              "    <tr>\n",
              "      <th>TikTok</th>\n",
              "      <td>0.029290</td>\n",
              "    </tr>\n",
              "    <tr>\n",
              "      <th>Twitter</th>\n",
              "      <td>0.029602</td>\n",
              "    </tr>\n",
              "  </tbody>\n",
              "</table>\n",
              "</div><br><label><b>dtype:</b> float64</label>"
            ]
          },
          "metadata": {},
          "execution_count": 28
        }
      ]
    },
    {
      "cell_type": "code",
      "execution_count": 14,
      "metadata": {
        "id": "HFhRxStUB7gR",
        "colab": {
          "base_uri": "https://localhost:8080/"
        },
        "outputId": "3dbf7f9d-5de4-46b4-c06f-b89974a19834"
      },
      "outputs": [
        {
          "output_type": "stream",
          "name": "stdout",
          "text": [
            "0.14886262659546368\n",
            "Twitter Instagram\n",
            "1.013693864500984 0.8648312379055204\n"
          ]
        },
        {
          "output_type": "stream",
          "name": "stderr",
          "text": [
            "UsageError: Line magic function `%%time` not found.\n"
          ]
        }
      ],
      "source": [
        "conversion_average=df.groupby('Platform', as_index=False)['Conversion Rate'].mean()\n",
        "conversion_average=conversion_average.rename(columns={'Conversion Rate':'Mean'})\n",
        "df3=df.merge(conversion_average,on='Platform')\n",
        "df3['Type of Conversion']=(df3['Conversion Rate']>df3['Mean'])\n",
        "df4=df3.groupby(['Platform', 'Type of Conversion'])['Follower Count'].sum().unstack(fill_value=0)\n",
        "df4['Ratio']=df4[True]/df4[False]\n",
        "print(df4['Ratio'].max()-df4['Ratio'].min())\n",
        "print(df4['Ratio'].idxmax(), df4['Ratio'].idxmin())\n",
        "print(df4['Ratio'].max(), df4['Ratio'].min())# (◡‿◡✿)\n",
        "%%time"
      ]
    },
    {
      "cell_type": "code",
      "source": [
        "%%time"
      ],
      "metadata": {
        "colab": {
          "base_uri": "https://localhost:8080/"
        },
        "id": "nhGZaexk5KbI",
        "outputId": "bd752551-9fb9-4515-8579-5f8df3632aa5"
      },
      "execution_count": 33,
      "outputs": [
        {
          "output_type": "stream",
          "name": "stderr",
          "text": [
            "UsageError: %%time is a cell magic, but the cell body is empty. Did you mean the line magic %time (single %)?\n"
          ]
        }
      ]
    },
    {
      "cell_type": "markdown",
      "metadata": {
        "id": "cnI3csveB7gR"
      },
      "source": [
        "#### Задание 9\n",
        "\n",
        "А теперь решите задание 8 чисто питоном. Никаких функций и методов pandas. Только питоновские циклы. Замерьте время выполнения кода. Наконец, сравните время в задании 8 и 9. Напишите ниже, кто же победил: чистый python и pandas?\n",
        "\n",
        "**Hint**: Чтобы итерироваться по датафрейму, можно из него сделать генератор через [pd.DataFrame.iterrows](https://pandas.pydata.org/pandas-docs/stable/reference/api/pandas.DataFrame.iterrows.html) или [pd.DataFrame.itertuples](https://pandas.pydata.org/pandas-docs/stable/reference/api/pandas.DataFrame.itertuples.html#pandas.DataFrame.itertuples). К слову, это не все способы итерироваться по датафрейму."
      ]
    },
    {
      "cell_type": "code",
      "execution_count": 19,
      "metadata": {
        "id": "rlP40eH8B7gS",
        "colab": {
          "base_uri": "https://localhost:8080/"
        },
        "outputId": "8ac1e054-a8a7-45a7-d05d-0aaf3d09a856"
      },
      "outputs": [
        {
          "output_type": "stream",
          "name": "stdout",
          "text": [
            "1.013693864500984 ['Twitter']\n",
            "0.8648312379055204 ['Instagram']\n",
            "0.14886262659546368\n"
          ]
        }
      ],
      "source": [
        "average_conversion_rate = df.groupby('Platform', as_index=False)['Conversion Rate'].mean()\n",
        "average_conversion_rate = average_conversion_rate.rename(columns={'Conversion Rate': 'Mean'})\n",
        "df = df.merge(average_conversion_rate, on='Platform')\n",
        "\n",
        "high_conversion = {}\n",
        "low_conversion = {}\n",
        "\n",
        "for index, row in df.iterrows():\n",
        "    platform = row['Platform']\n",
        "    follower_count = row['Follower Count']\n",
        "\n",
        "    if row['Conversion Rate'] > row['Mean']:\n",
        "        if platform not in high_conversion:\n",
        "            high_conversion[platform] = 0\n",
        "        high_conversion[platform] += follower_count\n",
        "    else:\n",
        "        if platform not in low_conversion:\n",
        "            low_conversion[platform] = 0\n",
        "        low_conversion[platform] += follower_count\n",
        "\n",
        "ratios = {}\n",
        "for platform in set(high_conversion.keys()).union(set(low_conversion.keys())):\n",
        "    high_count = high_conversion.get(platform, 0)\n",
        "    low_count = low_conversion.get(platform, 1)\n",
        "    ratios[platform] = high_count / low_count\n",
        "\n",
        "max_ratio = max(ratios.values())\n",
        "min_ratio = min(ratios.values())\n",
        "\n",
        "max_platforms = [platform for platform, ratio in ratios.items() if ratio == max_ratio]\n",
        "min_platforms = [platform for platform, ratio in ratios.items() if ratio == min_ratio]\n",
        "\n",
        "print(max_ratio, max_platforms)\n",
        "print(min_ratio, min_platforms)\n",
        "print(max_ratio - min_ratio)\n",
        "# (✿◠‿◠)"
      ]
    },
    {
      "cell_type": "markdown",
      "metadata": {
        "id": "qcsvG4hEB7gS"
      },
      "source": [
        "**А победителем является**: <А ТУТ МОЙ ОТВЕТ, Я ЗАМЕТИЛ, ЧТО В ЗАДАНИИ НУЖНО ЕЩЕ ЧТО-ТО НАПИСАТЬ ПОСЛЕ КОДА, ИНАЧЕ НЕ ПОЛУЧУ ПОЛНЫЙ БАЛЛ ЗА ЗАДАНИЕ>"
      ]
    },
    {
      "cell_type": "code",
      "source": [],
      "metadata": {
        "id": "GlulzcDK5Jrk"
      },
      "execution_count": null,
      "outputs": []
    },
    {
      "cell_type": "markdown",
      "metadata": {
        "id": "sEm6F_86B7gS"
      },
      "source": [
        "#### Задание 10\n",
        "\n",
        "Крайне серьезное задание. Отнеситесь к нему соответствующе. В ячейке ниже напишите ваш любимый анекдот или мем (только без баянов, окей?). Можно плохие. Помните, это задание на полный балл. Проверяющий работу ассистент должен улыбнуться.\n",
        "\n",
        "Если вставляете картинку, то убедитесь, что вы ее не подгружаете локально. А то будет неудобно - потерять балл на этом задании, когда надо было выложить картинку на облако и прокинуть ссылку. И нет, нельзя сюда просто ссылку вставить. Либо ищите, как вставить картинку, либо смешной анекдот. Есть всего два стула - выбирайте..."
      ]
    },
    {
      "cell_type": "code",
      "execution_count": null,
      "metadata": {
        "id": "Saz1jiwLB7gS"
      },
      "outputs": [],
      "source": [
        "# ‿( ́ ̵ _-`)‿"
      ]
    },
    {
      "cell_type": "markdown",
      "metadata": {
        "id": "OlVDrVfrB7gS"
      },
      "source": []
    }
  ],
  "metadata": {
    "kernelspec": {
      "display_name": "default",
      "language": "python",
      "name": "python3"
    },
    "language_info": {
      "codemirror_mode": {
        "name": "ipython",
        "version": 3
      },
      "file_extension": ".py",
      "mimetype": "text/x-python",
      "name": "python",
      "nbconvert_exporter": "python",
      "pygments_lexer": "ipython3",
      "version": "3.11.9"
    },
    "colab": {
      "provenance": [],
      "include_colab_link": true
    }
  },
  "nbformat": 4,
  "nbformat_minor": 0
}