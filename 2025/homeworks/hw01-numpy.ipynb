{
  "cells": [
    {
      "cell_type": "markdown",
      "metadata": {
        "id": "vmFnCKIlxaI2"
      },
      "source": [
        "## Домашнее задание 1 (5 баллов)\n",
        "\n",
        "Все задания ниже имеют равный вес (5/10)."
      ]
    },
    {
      "cell_type": "markdown",
      "metadata": {
        "id": "6dbE9JecxaI5"
      },
      "source": [
        "### О задании\n",
        "\n",
        "В этом домашнем задании вы попрактикуетесь в работе с библиотекой numpy, которая позволяет сравнительно легко и удобно выполнять разнообразные вычисления, избегая самостоятельной реализации поэлементной обработки."
      ]
    },
    {
      "cell_type": "markdown",
      "metadata": {
        "id": "_SekDeCQxaI6"
      },
      "source": [
        "Во всех задачах необходимо написать код решения внутри функции и убедиться, что она работает, с помощью [assert](https://python-reference.readthedocs.io/en/latest/docs/statements/assert.html) на выражение с использованием этой функции для данных из условия.\n",
        "\n",
        "При решении задач запрещается использовать циклы (`for`, `while`) и оператор `if`. Да, `map`, `reduce`, `filter` и любые другие \"чисто питоновские\" конструкции тоже запрещены. **Используйте только функционал numpy**.\n",
        "\n",
        "Везде, где встречаются массивы или матрицы, подразумевается, что это `numpy.array`.\n",
        "\n",
        "**numpy reference:** https://numpy.org/doc/stable/reference/index.html"
      ]
    },
    {
      "cell_type": "code",
      "execution_count": 2,
      "metadata": {
        "pycharm": {
          "name": "#%%\n"
        },
        "id": "kguqw5fdxaI8"
      },
      "outputs": [],
      "source": [
        "import numpy as np"
      ]
    },
    {
      "cell_type": "markdown",
      "metadata": {
        "id": "_rCwEY1axaI9"
      },
      "source": [
        "### Задание 1\n",
        "\n",
        "Напишите функцию, возвращающую округленную взвешенную сумму оценок по данным оценкам и весам. Можете посчитать свою оценку за курс :) В нашем случае вес экзамена равен 0.3, вес домашек - 0.4, вес контрольной - 0.2, вес самостоятельных - 0.1. Например, если за экзамен у вас 7, за домашки 10, за контрольную 8, а за самостоятельные 6, то вы получите отличную оценку 8!\n",
        "\n",
        "Обратите внимание, что на вход приходит всегда двумерный массив. В нем в каждой строке - окенки одного конкретного студента. От вас требуется вернуть итоговую оценку для всех студентов в массиве."
      ]
    },
    {
      "cell_type": "code",
      "execution_count": 102,
      "metadata": {
        "id": "LfgsTHLZxaI-"
      },
      "outputs": [],
      "source": [
        "def result_mark(weights: np.array, marks: np.array) -> int:\n",
        "    raw_grade=np.average(marks, weights=weights,axis=1)\n",
        "    return np.round(raw_grade).astype(int)\n",
        "    # your code here"
      ]
    },
    {
      "cell_type": "code",
      "execution_count": 103,
      "metadata": {
        "id": "w4dhMyXzxaI-"
      },
      "outputs": [],
      "source": [
        "weights = np.array([0.3, 0.4, 0.2, 0.1])\n",
        "marks = np.array([[7, 10, 8, 6], [6, 9, 7, 6]])\n",
        "\n",
        "assert np.allclose(result_mark(weights, marks), np.array([8, 7]))"
      ]
    },
    {
      "cell_type": "code",
      "execution_count": 104,
      "metadata": {
        "id": "A-t1On9gxaI_"
      },
      "outputs": [],
      "source": [
        "weights = np.array([0.3, 0.4, 0.2, 0.1])\n",
        "marks = np.array([[7, 0, 8, 6]])\n",
        "\n",
        "assert np.allclose(result_mark(weights, marks), np.array([4]))"
      ]
    },
    {
      "cell_type": "markdown",
      "metadata": {
        "id": "tDG4mUTmxaI_"
      },
      "source": [
        "### Задание 2\n",
        "\n",
        "Напишите функцию, которая каждое четное число в массиве заменяет на его квадрат (вторую степень), а нечетное - на его синус. Округлите все значения в итоговом массиве до двух знаков после запятой."
      ]
    },
    {
      "cell_type": "code",
      "execution_count": 18,
      "metadata": {
        "id": "JIZRJNPExaI_"
      },
      "outputs": [],
      "source": [
        "def change_array(array: np.array) -> np.array:\n",
        "  array=array.astype(\"float64\")\n",
        "  array[array%2==0]=array[array%2==0]**2\n",
        "  array[array%2!=0]=np.sin(array[array%2!=0])\n",
        "  return array.round(decimals=2)\n",
        ""
      ]
    },
    {
      "cell_type": "code",
      "execution_count": 19,
      "metadata": {
        "id": "23C4q6nexaJA"
      },
      "outputs": [],
      "source": [
        "array = np.array([2, 5, 1, 0, -6, 22, 213431])\n",
        "\n",
        "assert np.allclose(change_array(array), np.array([4.0, -0.96, 0.84, 0.0, 36.0, 484.0, -0.58]))"
      ]
    },
    {
      "cell_type": "code",
      "execution_count": 20,
      "metadata": {
        "id": "LuSjSH9gxaJA"
      },
      "outputs": [],
      "source": [
        "array = np.array([3, 12, 15, -97, 6])\n",
        "\n",
        "assert np.allclose(change_array(array), np.array([0.14, 144.0, 0.65, -0.38, 36.0]))"
      ]
    },
    {
      "cell_type": "markdown",
      "metadata": {
        "id": "Bxrcjoe2xaJB"
      },
      "source": [
        "### Задание 3\n",
        "\n",
        "Напишите функцию, которая вычисляет разность каждого элемента с предыдущим (для самого первого считайте, что его разница с \"предыдущим\" нулевая) в виде нового массива и возвращает вектор, в котором каждый новый элемент - сумма всех предыдущих из полученного нового массива."
      ]
    },
    {
      "cell_type": "code",
      "execution_count": 28,
      "metadata": {
        "id": "WEnBiPbSxaJB"
      },
      "outputs": [],
      "source": [
        "def cumulative_sum_of_differences(array):\n",
        "    array_1=np.append(array[0], array)\n",
        "    return np.cumsum(array-array_1[:-1])"
      ]
    },
    {
      "cell_type": "code",
      "execution_count": 29,
      "metadata": {
        "id": "kY_2NdWlxaJB"
      },
      "outputs": [],
      "source": [
        "array = np.array([3, 6, 2, 8])\n",
        "\n",
        "assert np.allclose(cumulative_sum_of_differences(array), np.array([0, 3, -1, 5]))"
      ]
    },
    {
      "cell_type": "code",
      "execution_count": 30,
      "metadata": {
        "id": "tD6-Dv9vxaJC"
      },
      "outputs": [],
      "source": [
        "array = np.array([5, 1])\n",
        "\n",
        "assert np.allclose(cumulative_sum_of_differences(array), np.array([0, -4]))"
      ]
    },
    {
      "cell_type": "markdown",
      "source": [
        "Вообще говоря, можно было в функции возвращать просто array-array[0], так как на i-том месте стоит a_i-a_{i-1}, а значит в векторе на i-том месте будет стоять телескопическая сумма (a_i-a_{i-1})+(a_{i-1}-a_{i-2})+...+(a_0-a_0)=a_i-a_0."
      ],
      "metadata": {
        "id": "FBjDx0Dq5i3R"
      }
    },
    {
      "cell_type": "markdown",
      "metadata": {
        "id": "xsubganbxaJC"
      },
      "source": [
        "### Задание 4\n",
        "\n",
        "Напишите функцию, которая транспонирует двумерный массив, затем делает из него одномерный (reshape), переводит все элементы массива в *int8* и выводит его отсортированным по убыванию."
      ]
    },
    {
      "cell_type": "code",
      "execution_count": 36,
      "metadata": {
        "id": "gI4sLxHTxaJC"
      },
      "outputs": [],
      "source": [
        "def flatten_and_sort_transposed(array: np.array) -> np.array:\n",
        "    array_transposed=np.transpose(array).flatten()\n",
        "    return np.sort(array_transposed.astype(\"int8\"))[::-1]\n",
        "    # your code here"
      ]
    },
    {
      "cell_type": "code",
      "execution_count": 37,
      "metadata": {
        "id": "9TosiD0_xaJD"
      },
      "outputs": [],
      "source": [
        "array = np.array([[256, -10], [-381, 112]])\n",
        "\n",
        "assert np.allclose(flatten_and_sort_transposed(array), np.array([112, 0, -10, -125]))"
      ]
    },
    {
      "cell_type": "code",
      "execution_count": 38,
      "metadata": {
        "id": "SXNPav8kxaJD"
      },
      "outputs": [],
      "source": [
        "array = np.array([[9, 8, 7], [3, 6, 129]])\n",
        "\n",
        "assert np.allclose(flatten_and_sort_transposed(array), np.array([ 9, 8, 7, 6, 3, -127]))"
      ]
    },
    {
      "cell_type": "markdown",
      "metadata": {
        "id": "4IXiuba1xaJD"
      },
      "source": [
        "### Задание 5\n",
        "\n",
        "Напишите функцию, которая удаляет из массива все строки, среднее значение в которых больше общего среднего значения по всему массиву."
      ]
    },
    {
      "cell_type": "code",
      "execution_count": 39,
      "metadata": {
        "id": "Zo6fGQFdxaJD"
      },
      "outputs": [],
      "source": [
        "def filter_rows_by_mean(array):\n",
        "    return array[np.average(array,axis=1)<=np.average(array)]\n",
        "    # your code here"
      ]
    },
    {
      "cell_type": "code",
      "execution_count": 40,
      "metadata": {
        "id": "WT5Uj9swxaJD"
      },
      "outputs": [],
      "source": [
        "array = np.array([[1, 2, 3], [7, 8, 9], [4, 5, 6]])\n",
        "res = filter_rows_by_mean(array)\n",
        "\n",
        "assert res.ndim == 2\n",
        "assert np.allclose(res, np.array([[1, 2, 3], [4, 5, 6]]))"
      ]
    },
    {
      "cell_type": "code",
      "execution_count": 41,
      "metadata": {
        "id": "TyFkHhSNxaJE"
      },
      "outputs": [],
      "source": [
        "array = np.array([[10, 20], [5, 5], [15, 15]])\n",
        "res = filter_rows_by_mean(array)\n",
        "\n",
        "assert res.ndim == 2\n",
        "assert np.allclose(res, np.array([[5, 5]]))"
      ]
    },
    {
      "cell_type": "markdown",
      "metadata": {
        "id": "2yjXeTtNxaJE"
      },
      "source": [
        "### Задание 6\n",
        "\n",
        "Напишите функцию, которая принимает на вход число - размер массива (квадратная матрица), который заполнен по принипу щахматной доски нулями и единицами. Первой (слева сверху) идет всегда единица. Напомним, что на шахматной доске белые и черные ячейки чередуются (в данном задании чередуются нули и единицы)."
      ]
    },
    {
      "cell_type": "code",
      "execution_count": 61,
      "metadata": {
        "id": "AtzIubaQxaJE"
      },
      "outputs": [],
      "source": [
        "def create_checkerboard(number):\n",
        "    indices=np.indices((number,number))\n",
        "    return (indices[0]+indices[1]+1)%2\n",
        "    # your code here"
      ]
    },
    {
      "cell_type": "code",
      "source": [
        "create_checkerboard(3)"
      ],
      "metadata": {
        "id": "s1OdElZoCHz0",
        "outputId": "2222af75-d4fe-45f9-ed35-d5615793277f",
        "colab": {
          "base_uri": "https://localhost:8080/"
        }
      },
      "execution_count": 64,
      "outputs": [
        {
          "output_type": "execute_result",
          "data": {
            "text/plain": [
              "array([[1, 0, 1],\n",
              "       [0, 1, 0],\n",
              "       [1, 0, 1]])"
            ]
          },
          "metadata": {},
          "execution_count": 64
        }
      ]
    },
    {
      "cell_type": "code",
      "execution_count": 65,
      "metadata": {
        "id": "f5TiTy9yxaJF"
      },
      "outputs": [],
      "source": [
        "number = 3\n",
        "\n",
        "assert np.allclose(create_checkerboard(number) - np.array([[1, 0, 1], [0, 1, 0], [1, 0, 1]]), np.zeros((number, number)))"
      ]
    },
    {
      "cell_type": "code",
      "execution_count": 66,
      "metadata": {
        "id": "6uuyYlKmxaJF"
      },
      "outputs": [],
      "source": [
        "number = 4\n",
        "\n",
        "assert np.allclose(create_checkerboard(number) - np.array([[1, 0, 1, 0], [0, 1, 0, 1], [1, 0, 1, 0], [0, 1, 0, 1]]), np.zeros((number, number)))"
      ]
    },
    {
      "cell_type": "markdown",
      "metadata": {
        "id": "xeGdDH7SxaJF"
      },
      "source": [
        "### Задание 7\n",
        "\n",
        "Напишите функцию, которая соритрует строки двумерного массива по значению в первом (начиная с нуля) столбце (по возрастанию)."
      ]
    },
    {
      "cell_type": "code",
      "execution_count": 44,
      "metadata": {
        "id": "atSgpM4ixaJF"
      },
      "outputs": [],
      "source": [
        "def sort_rows_by_second_column(array):\n",
        "    return array[np.argsort(array[:,1])]"
      ]
    },
    {
      "cell_type": "code",
      "execution_count": 45,
      "metadata": {
        "id": "WjvUasU-xaJG"
      },
      "outputs": [],
      "source": [
        "array = np.array([[10, 2], [3, 5], [7, 1]])\n",
        "\n",
        "assert np.allclose(sort_rows_by_second_column(array), np.array([[7, 1], [10, 2], [3, 5]]))"
      ]
    },
    {
      "cell_type": "code",
      "execution_count": 46,
      "metadata": {
        "id": "-NT6uk-uxaJG"
      },
      "outputs": [],
      "source": [
        "array = np.array([[5, 8, 1], [10, 3, 9], [2, 7, 0], [6, -1, 5]])\n",
        "\n",
        "assert np.allclose(sort_rows_by_second_column(array), np.array([[6, -1, 5], [10, 3, 9], [2, 7, 0], [5, 8, 1]]))"
      ]
    },
    {
      "cell_type": "markdown",
      "metadata": {
        "id": "WiN7f1nMxaJG"
      },
      "source": [
        "### Задание 8\n",
        "\n",
        "Напишите функцию, которая вычисляет сумму элементов [побочной](https://ru.wikipedia.org/wiki/Квадратная_матрица) диагонали квадратной матрицы."
      ]
    },
    {
      "cell_type": "code",
      "execution_count": 47,
      "metadata": {
        "id": "LMW1oRk9xaJG"
      },
      "outputs": [],
      "source": [
        "def sum_counterdiagonal_elements(array):\n",
        "    return np.trace(np.rot90(array))"
      ]
    },
    {
      "cell_type": "code",
      "execution_count": 48,
      "metadata": {
        "id": "g1BVilZaxaJH"
      },
      "outputs": [],
      "source": [
        "array = np.array([[5, 8, 1], [10, 3, 9], [2, 7, 0]])\n",
        "\n",
        "assert sum_counterdiagonal_elements(array) == 6"
      ]
    },
    {
      "cell_type": "code",
      "execution_count": 49,
      "metadata": {
        "id": "PgmfK9TRxaJH"
      },
      "outputs": [],
      "source": [
        "array = np.array([[-4, -1, -1, 7], [6, -10, 5, -9], [3, -8, 6, 8], [-1, -6, 7, -10]])\n",
        "\n",
        "assert sum_counterdiagonal_elements(array) == 3"
      ]
    },
    {
      "cell_type": "markdown",
      "metadata": {
        "id": "uIIqCmppxaJH"
      },
      "source": [
        "### Задание 9\n",
        "\n",
        "Напишите функцию, которая принимает на вход три числа (начало отрезка, конец отрезка, количество точек на отрезке). Данная функция генерирует указанное количество точек равномерно на отрезке с указанными концами (точки равноудалены друг от друга). Затем функция генерирует другой массив - натуральный логарифм от всех точек отрезка плюс единица ($ln(point + 1)$). Возвращает функция массив пар точек вида (точка на отрезке, ее логарифм). Каждое значение в возвращаемом массиве должно быть округлено до двух знаков после запятой."
      ]
    },
    {
      "cell_type": "code",
      "execution_count": 80,
      "metadata": {
        "id": "LYxQbjeHxaJI"
      },
      "outputs": [],
      "source": [
        "def generate_logarithm_points(start, end, count):\n",
        "    array=np.linspace(start,end, count, endpoint=True).round(decimals=2)\n",
        "    array_log=np.log(array+1).round(decimals=2)\n",
        "    return np.array(list(zip(array,array_log)))\n",
        "    # your code here"
      ]
    },
    {
      "cell_type": "code",
      "source": [
        "generate_logarithm_points(1,10,5)\n"
      ],
      "metadata": {
        "id": "VsyOlDRPFqne",
        "outputId": "49ad0cd0-c997-4c5f-9465-d1057bcd6fba",
        "colab": {
          "base_uri": "https://localhost:8080/"
        }
      },
      "execution_count": 81,
      "outputs": [
        {
          "output_type": "execute_result",
          "data": {
            "text/plain": [
              "array([[ 1.  ,  0.69],\n",
              "       [ 3.25,  1.45],\n",
              "       [ 5.5 ,  1.87],\n",
              "       [ 7.75,  2.17],\n",
              "       [10.  ,  2.4 ]])"
            ]
          },
          "metadata": {},
          "execution_count": 81
        }
      ]
    },
    {
      "cell_type": "code",
      "execution_count": 82,
      "metadata": {
        "id": "kRHv5oo5xaJI"
      },
      "outputs": [],
      "source": [
        "start = 1\n",
        "end = 10\n",
        "count = 5\n",
        "\n",
        "assert np.allclose(generate_logarithm_points(start, end, count), np.array([[1., 0.69], [3.25, 1.45], [5.5 , 1.87], [7.75, 2.17], [10., 2.4]]))"
      ]
    },
    {
      "cell_type": "code",
      "source": [
        "generate_logarithm_points(5,12,4)"
      ],
      "metadata": {
        "id": "Omi-9Af3F7s7",
        "outputId": "a60ea677-411c-4136-dab9-fc2f813f5f65",
        "colab": {
          "base_uri": "https://localhost:8080/"
        }
      },
      "execution_count": 83,
      "outputs": [
        {
          "output_type": "execute_result",
          "data": {
            "text/plain": [
              "array([[ 5.  ,  1.79],\n",
              "       [ 7.33,  2.12],\n",
              "       [ 9.67,  2.37],\n",
              "       [12.  ,  2.56]])"
            ]
          },
          "metadata": {},
          "execution_count": 83
        }
      ]
    },
    {
      "cell_type": "code",
      "execution_count": 84,
      "metadata": {
        "id": "g9Imk5mTxaJR"
      },
      "outputs": [],
      "source": [
        "start = 5\n",
        "end = 12\n",
        "count = 4\n",
        "\n",
        "assert np.allclose(generate_logarithm_points(start, end, count), np.array([[5., 1.79], [7.33, 2.12], [9.67, 2.37], [12., 2.56]]))"
      ]
    },
    {
      "cell_type": "markdown",
      "metadata": {
        "id": "nQI2HcSYxaJS"
      },
      "source": [
        "### Задание 10\n",
        "\n",
        "Напишите функцию, которая нормализует входной двумерный массив.\n",
        "\n",
        "Под нормализацией в данном задании подразумевается перевод всех чисел массива на отрезок $[0; 1]$. Очевидно, недостаточно просто вычесть/прибавить лишнее, чтобы остались числа на нужном отрезке. Суть нормализации массива в том, чтобы не потерять информацию о его элементах и их соотношениях. Потому, необходимо сохранить пропорции расстояний между каждым числом - спроецировать все точки на указанный отрезок. Такой метод масштабирования массива называется MinMaxScaling. Само название дает подсказку, как нужно решить задачу. Дробные числа округляйте до двух знаков после запятой.\n",
        "\n",
        "*Будьте осторожны с делением...*"
      ]
    },
    {
      "cell_type": "code",
      "execution_count": 99,
      "metadata": {
        "id": "Aq4XW_MRxaJS"
      },
      "outputs": [],
      "source": [
        "def min_max_scale(array):\n",
        "    min=np.min(array)\n",
        "    max=np.max(array)\n",
        "    return np.where(max - min == 0, np.zeros(array.shape), ((array - min) / (max - min)).round(decimals=2)\n",
        "    )\n",
        "    # your code here"
      ]
    },
    {
      "cell_type": "code",
      "execution_count": 100,
      "metadata": {
        "id": "vBUUplNyxaJS"
      },
      "outputs": [],
      "source": [
        "array = np.array([[1, 2, 3], [4, 5, 6], [7, 8, 9]])\n",
        "\n",
        "assert np.allclose(min_max_scale(array), np.array([[0. , 0.12, 0.25], [0.38, 0.5 , 0.62], [0.75, 0.88, 1.]]))"
      ]
    },
    {
      "cell_type": "code",
      "execution_count": 101,
      "metadata": {
        "id": "meSZjrcrxaJT"
      },
      "outputs": [],
      "source": [
        "array = np.array([[0, 1, 2], [3, 4, 5]])\n",
        "\n",
        "assert np.allclose(min_max_scale(array), np.array([[0., 0.2, 0.4], [0.6, 0.8, 1.]]))"
      ]
    },
    {
      "cell_type": "code",
      "execution_count": null,
      "metadata": {
        "id": "I2AytspMxaJT"
      },
      "outputs": [],
      "source": []
    }
  ],
  "metadata": {
    "kernelspec": {
      "display_name": "default",
      "language": "python",
      "name": "python3"
    },
    "language_info": {
      "codemirror_mode": {
        "name": "ipython",
        "version": 3
      },
      "file_extension": ".py",
      "mimetype": "text/x-python",
      "name": "python",
      "nbconvert_exporter": "python",
      "pygments_lexer": "ipython3",
      "version": "3.11.9"
    },
    "colab": {
      "provenance": []
    }
  },
  "nbformat": 4,
  "nbformat_minor": 0
}